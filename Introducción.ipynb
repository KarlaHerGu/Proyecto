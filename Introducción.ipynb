{
 "cells": [
  {
   "cell_type": "markdown",
   "metadata": {},
   "source": [
    " # Introducción "
   ]
  },
  {
   "cell_type": "markdown",
   "metadata": {},
   "source": [
    "### En la actualidad los Sistemas Globales de Navegación por Satélite son una herramienta muy utilizada en el ámbito científico, la principal ventaja de estos es la gran cantidad de información que se puede obtener en poco tiempo; aunque el uso de la tecnología GNSS en el área de las Geociencias como lo son la sismología, geofísica, vulcanología, entre otras, es relativamente corto a comparación de los métodos tradicionales, ha venido a revolucionar los estudios de estas áreas y ha proporcionado nuevas perspectivas de lo que sucede a nuestro alrededor. Tal es el caso que se ha utilizado en los estudios del movimiento de las placas tectónicas, implementación de alertas de tsunamis más rápidas y efectivas, así como en la determinación de la magnitud de un sismo. Actualmente existen diversas redes de monitoreo  continuo GNSS diseminadas estrategicamente en casi todo el globo terráqueo, con el propósito de obtener mejores metodologías que permitirán tener una visión más precisa de los fenómenos precisa de los fenómenos físicos que suceden en nuestro planeta."
   ]
  },
  {
   "cell_type": "code",
   "execution_count": null,
   "metadata": {
    "collapsed": true
   },
   "outputs": [],
   "source": []
  }
 ],
 "metadata": {
  "kernelspec": {
   "display_name": "Julia 0.6.0",
   "language": "julia",
   "name": "julia-0.6"
  },
  "language_info": {
   "file_extension": ".jl",
   "mimetype": "application/julia",
   "name": "julia",
   "version": "0.6.0"
  }
 },
 "nbformat": 4,
 "nbformat_minor": 2
}

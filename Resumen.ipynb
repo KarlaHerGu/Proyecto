{
 "cells": [
  {
   "cell_type": "markdown",
   "metadata": {},
   "source": [
    "# Resumen JuliaCon2017"
   ]
  },
  {
   "cell_type": "markdown",
   "metadata": {},
   "source": [
    " ####   \n",
    "En un principio IPython fue una herramienta basada en la terminal interactiva dirigido al flujo de trabajo de personas que deseen ejecutar código y que desee ver y/o cambiar de ida y vuelta un documento.\n",
    " \n",
    "Julia hoy en día tiene algunas ideas realmente creativas para un manejo de el lenguaje más fácil y práctico.\n",
    "\n",
    "Python en su origen es más arcaico con el flujo de trabajo que tiene el código de sus datos, en general su sistema de archivos, etc.\n",
    "\n",
    "Esta herramienta se dio principalmente para instituciones como laboratorios nacionales, universidades, entre otros.\n",
    "\n",
    "La principal visión de esto es que con esta herramienta se puede tener el código, la ejecución y narrativa de lo que se va haciendo en un documento de fácil lectura y donde se pueden almacenar los resultados.\n",
    "\n",
    "Este sistema permite combinar los documentos de las matemáticas, resultados de los cálculos, un prototipo que nos permite usar la tecnología web, así se puede tener resultados y cálculos accesibles a través de la web (Gmail, Google Docs, etc)\n",
    "\n",
    "La interfaz web dio muchas ventajas a esta herramienta, además que se puede accesar a ella desde una máquina cualquiera.\n",
    "\n",
    "GitHub en el año 2014 se crea como una plataforma para la ciencia abierta. Se originó con la necesidad de tener una página segura de repositorios; donde se incluya la información necesaria en un documento, código, análisis, cuadernos, figuras, etc\n",
    "\n",
    "Uno de los objeytivos principales de Jupyter es dar elasticidad a las personas, dar las herramientas necesarias para hacer más ciencia abierta en colaboración, con mayor accesibilidad y sobre todo reproducible."
   ]
  }
 ],
 "metadata": {
  "kernelspec": {
   "display_name": "Julia 0.6.0",
   "language": "julia",
   "name": "julia-0.6"
  },
  "language_info": {
   "file_extension": ".jl",
   "mimetype": "application/julia",
   "name": "julia",
   "version": "0.6.0"
  }
 },
 "nbformat": 4,
 "nbformat_minor": 2
}
